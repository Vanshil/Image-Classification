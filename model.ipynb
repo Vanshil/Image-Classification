{
  "nbformat": 4,
  "nbformat_minor": 0,
  "metadata": {
    "accelerator": "GPU",
    "colab": {
      "name": "model.ipynb",
      "provenance": [],
      "collapsed_sections": [],
      "toc_visible": true
    },
    "kernelspec": {
      "display_name": "Python 3",
      "name": "python3"
    }
  },
  "cells": [
    {
      "cell_type": "code",
      "metadata": {
        "colab": {
          "base_uri": "https://localhost:8080/"
        },
        "id": "2NvZexSxwnQq",
        "outputId": "5580f6fe-3905-46be-aff3-854256fad9fb"
      },
      "source": [
        "import os\n",
        "import numpy as np\n",
        "import torch\n",
        "import glob\n",
        "import torch.nn as nn\n",
        "from torchvision.transforms import transforms\n",
        "from torch.utils.data import DataLoader\n",
        "from torch.optim import Adam\n",
        "from torch.autograd import Variable\n",
        "import torchvision\n",
        "import pathlib\n",
        "from torch import optim\n",
        "import matplotlib.pyplot as plt\n",
        "device=torch.device('cuda' if torch.cuda.is_available() else 'cpu')\n",
        "print(device)\n",
        "\n",
        "transformer = transforms.Compose(\n",
        "    [transforms.Resize((64,64)),\n",
        "     transforms.ToTensor(),\n",
        "     transforms.Normalize((0.5,0.5,0.5),(0.5,0.5,0.5))]\n",
        ")\n",
        "\n",
        "trainset = torchvision.datasets.CIFAR10(root='./data',train = True,download=True,transform=transformer)\n",
        "testset = torchvision.datasets.CIFAR10(root='./data',train = False,download=True,transform=transformer)\n",
        "train_loader = torch.utils.data.DataLoader(trainset,batch_size=25,shuffle=True,num_workers=2)\n",
        "\n",
        "test_loader = torch.utils.data.DataLoader(testset,batch_size=25,shuffle=True,num_workers=2)\n",
        "\n",
        "classes=('plane','car','bird','cat','deer','dog','frog','horse','ship','truck')\n",
        "\n",
        "\n",
        "\n",
        "\n",
        "class ConvNet(nn.Module):\n",
        "      def __init__(self):\n",
        "        \"\"\"CNN Builder.\"\"\"\n",
        "        super(ConvNet, self).__init__()\n",
        "\n",
        "        self.conv_layer = nn.Sequential(\n",
        "\n",
        "            # Conv Layer block 1\n",
        "            nn.Conv2d(in_channels=3, out_channels=32, kernel_size=3, padding=1),\n",
        "            nn.BatchNorm2d(32),\n",
        "            nn.ReLU(inplace=True),\n",
        "            nn.Conv2d(in_channels=32, out_channels=64, kernel_size=3, padding=1),\n",
        "            nn.ReLU(inplace=True),\n",
        "            nn.MaxPool2d(kernel_size=2, stride=2),\n",
        "\n",
        "            # Conv Layer block 2\n",
        "            nn.Conv2d(in_channels=64, out_channels=128, kernel_size=3, padding=1),\n",
        "            nn.BatchNorm2d(128),\n",
        "            nn.ReLU(inplace=True),\n",
        "            nn.Conv2d(in_channels=128, out_channels=128, kernel_size=3, padding=1),\n",
        "            nn.ReLU(inplace=True),\n",
        "            nn.MaxPool2d(kernel_size=2, stride=2),\n",
        "            nn.Dropout2d(p=0.2),\n",
        "\n",
        "            # Conv Layer block 3\n",
        "            nn.Conv2d(in_channels=128, out_channels=256, kernel_size=3, padding=1),\n",
        "            nn.BatchNorm2d(256),\n",
        "            nn.ReLU(inplace=True),\n",
        "            nn.Conv2d(in_channels=256, out_channels=256, kernel_size=3, padding=1),\n",
        "            nn.ReLU(inplace=True),\n",
        "            nn.MaxPool2d(kernel_size=2, stride=2),\n",
        "        )\n",
        "\n",
        "\n",
        "        self.fc_layer = nn.Sequential(\n",
        "            nn.Dropout(p=0.1),\n",
        "            nn.Linear(4096*4, 1024),\n",
        "            nn.ReLU(inplace=True),\n",
        "            nn.Linear(1024, 512),\n",
        "            nn.ReLU(inplace=True),\n",
        "            nn.Dropout(p=0.1),\n",
        "            nn.Linear(512, 10)\n",
        "        )\n",
        "\n",
        "\n",
        "      def forward(self, x):\n",
        "        \"\"\"Perform forward.\"\"\"\n",
        "        \n",
        "        # conv layers\n",
        "        x = self.conv_layer(x)\n",
        "        \n",
        "        # flatten\n",
        "        x = x.view(x.size(0), -1)\n",
        "        \n",
        "        # fc layer\n",
        "        x = self.fc_layer(x)\n",
        "\n",
        "\n",
        "        return x\n",
        "\n"
      ],
      "execution_count": null,
      "outputs": [
        {
          "output_type": "stream",
          "text": [
            "cuda\n",
            "Files already downloaded and verified\n",
            "Files already downloaded and verified\n"
          ],
          "name": "stdout"
        }
      ]
    },
    {
      "cell_type": "code",
      "metadata": {
        "colab": {
          "base_uri": "https://localhost:8080/"
        },
        "id": "c22fH3aQ8gtB",
        "outputId": "cdb73142-408b-40e5-bcc9-54cde878c017"
      },
      "source": [
        "net=ConvNet().to(device)\n",
        "optimizer=optim.SGD(net.parameters(),lr=0.001,momentum=0.9)\n",
        "print(list(net.parameters())[0].size())\n",
        "criterion = nn.CrossEntropyLoss()\n",
        "print(len(train_loader))\n",
        "print(len(test_loader))\n"
      ],
      "execution_count": null,
      "outputs": [
        {
          "output_type": "stream",
          "text": [
            "torch.Size([32, 3, 3, 3])\n",
            "5000\n",
            "400\n"
          ],
          "name": "stdout"
        }
      ]
    },
    {
      "cell_type": "code",
      "metadata": {
        "colab": {
          "background_save": true,
          "base_uri": "https://localhost:8080/"
        },
        "id": "1QtiBzkn7kxD",
        "outputId": "452bf329-da10-4069-d177-4b1e5d9219df"
      },
      "source": [
        "for epoch in range(30):\n",
        "\n",
        "  running_loss = 0.0\n",
        "  for i,(images,labels) in enumerate(train_loader):\n",
        "\n",
        "    if torch.cuda.is_available():\n",
        "            images=Variable(images.cuda())\n",
        "            labels=Variable(labels.cuda())\n",
        "\n",
        "    optimizer.zero_grad()\n",
        "\n",
        "    outputs = net(images)\n",
        "    loss = criterion(outputs,labels)\n",
        "    running_loss += loss\n",
        "    loss.backward()\n",
        "    optimizer.step()\n",
        "\n",
        "  print(running_loss/len(train_loader))\n",
        "\n"
      ],
      "execution_count": null,
      "outputs": [
        {
          "output_type": "stream",
          "text": [
            "tensor(1.4932, device='cuda:0', grad_fn=<DivBackward0>)\n",
            "tensor(1.0180, device='cuda:0', grad_fn=<DivBackward0>)\n",
            "tensor(0.8124, device='cuda:0', grad_fn=<DivBackward0>)\n",
            "tensor(0.6737, device='cuda:0', grad_fn=<DivBackward0>)\n",
            "tensor(0.5664, device='cuda:0', grad_fn=<DivBackward0>)\n",
            "tensor(0.4661, device='cuda:0', grad_fn=<DivBackward0>)\n",
            "tensor(0.3814, device='cuda:0', grad_fn=<DivBackward0>)\n",
            "tensor(0.2945, device='cuda:0', grad_fn=<DivBackward0>)\n",
            "tensor(0.2168, device='cuda:0', grad_fn=<DivBackward0>)\n",
            "tensor(0.1573, device='cuda:0', grad_fn=<DivBackward0>)\n",
            "tensor(0.1089, device='cuda:0', grad_fn=<DivBackward0>)\n",
            "tensor(0.0770, device='cuda:0', grad_fn=<DivBackward0>)\n",
            "tensor(0.0594, device='cuda:0', grad_fn=<DivBackward0>)\n",
            "tensor(0.0467, device='cuda:0', grad_fn=<DivBackward0>)\n",
            "tensor(0.0374, device='cuda:0', grad_fn=<DivBackward0>)\n",
            "tensor(0.0279, device='cuda:0', grad_fn=<DivBackward0>)\n",
            "tensor(0.0251, device='cuda:0', grad_fn=<DivBackward0>)\n",
            "tensor(0.0209, device='cuda:0', grad_fn=<DivBackward0>)\n",
            "tensor(0.0192, device='cuda:0', grad_fn=<DivBackward0>)\n",
            "tensor(0.0154, device='cuda:0', grad_fn=<DivBackward0>)\n",
            "tensor(0.0132, device='cuda:0', grad_fn=<DivBackward0>)\n",
            "tensor(0.0140, device='cuda:0', grad_fn=<DivBackward0>)\n",
            "tensor(0.0103, device='cuda:0', grad_fn=<DivBackward0>)\n",
            "tensor(0.0108, device='cuda:0', grad_fn=<DivBackward0>)\n",
            "tensor(0.0083, device='cuda:0', grad_fn=<DivBackward0>)\n",
            "tensor(0.0094, device='cuda:0', grad_fn=<DivBackward0>)\n",
            "tensor(0.0088, device='cuda:0', grad_fn=<DivBackward0>)\n",
            "tensor(0.0067, device='cuda:0', grad_fn=<DivBackward0>)\n",
            "tensor(0.0069, device='cuda:0', grad_fn=<DivBackward0>)\n",
            "tensor(0.0071, device='cuda:0', grad_fn=<DivBackward0>)\n"
          ],
          "name": "stdout"
        }
      ]
    },
    {
      "cell_type": "code",
      "metadata": {
        "colab": {
          "base_uri": "https://localhost:8080/"
        },
        "id": "L6t0bKzkQPb2",
        "outputId": "fc2f957c-9c12-49fd-fa62-eaf0c8e1501a"
      },
      "source": [
        "\r\n",
        "test_accuracy=0.0\r\n",
        "for i, (images,labels) in enumerate(test_loader):\r\n",
        "        if torch.cuda.is_available():\r\n",
        "            images=Variable(images.cuda())\r\n",
        "            labels=Variable(labels.cuda())\r\n",
        "        outputs=net(images)\r\n",
        "        _,prediction=torch.max(outputs.data,1)\r\n",
        "        test_accuracy+=int(torch.sum(prediction==labels.data))\r\n",
        "        if i%999 == 0:\r\n",
        "          print(labels.data,prediction)\r\n",
        "test_accuracy=100*test_accuracy/(25*len(test_loader))\r\n",
        "    \r\n",
        "print(test_accuracy)"
      ],
      "execution_count": null,
      "outputs": [
        {
          "output_type": "stream",
          "text": [
            "tensor([4, 8, 4, 5, 4, 8, 5, 7, 5, 6, 2, 6, 5, 3, 3, 7, 9, 8, 5, 4, 2, 1, 1, 1,\n",
            "        6], device='cuda:0') tensor([4, 8, 4, 5, 4, 8, 5, 7, 3, 6, 2, 6, 5, 2, 3, 7, 9, 8, 5, 4, 2, 1, 1, 1,\n",
            "        9], device='cuda:0')\n",
            "80.51\n"
          ],
          "name": "stdout"
        }
      ]
    },
    {
      "cell_type": "code",
      "metadata": {
        "colab": {
          "base_uri": "https://localhost:8080/",
          "height": 229
        },
        "id": "Sd89j65PbonJ",
        "outputId": "dab5bd25-2041-4624-f016-e4f2fd9eef14"
      },
      "source": [
        "def imageshow(img):\n",
        "  img= img /2 + 0.5\n",
        "  npimg = img.numpy()\n",
        "  plt.imshow(np.transpose(npimg,(1,2,0)))\n",
        "\n",
        "dataiter = iter(test_loader)\n",
        "images, labels = dataiter.next()\n",
        "\n",
        "# print images \n",
        "imageshow(torchvision.utils.make_grid(images))\n",
        "\n",
        "print (\"ground truth : \" ,''.join('%10s'% classes[labels[j]] for j in range(25)))\n",
        "\n",
        "if torch.cuda.is_available():\n",
        "            images=Variable(images.cuda())\n",
        "            labels=Variable(labels.cuda())\n",
        "outputs=net(images)\n",
        "\n",
        "_,predicted = torch.max(outputs.data,1)\n",
        "\n",
        "print (\"predicted :    \" ,''.join('%10s'% classes[predicted[j]] for j in range(25)))"
      ],
      "execution_count": null,
      "outputs": [
        {
          "output_type": "error",
          "ename": "NameError",
          "evalue": "ignored",
          "traceback": [
            "\u001b[0;31m---------------------------------------------------------------------------\u001b[0m",
            "\u001b[0;31mNameError\u001b[0m                                 Traceback (most recent call last)",
            "\u001b[0;32m<ipython-input-1-e945046c03bb>\u001b[0m in \u001b[0;36m<module>\u001b[0;34m()\u001b[0m\n\u001b[1;32m      4\u001b[0m   \u001b[0mplt\u001b[0m\u001b[0;34m.\u001b[0m\u001b[0mimshow\u001b[0m\u001b[0;34m(\u001b[0m\u001b[0mnp\u001b[0m\u001b[0;34m.\u001b[0m\u001b[0mtranspose\u001b[0m\u001b[0;34m(\u001b[0m\u001b[0mnpimg\u001b[0m\u001b[0;34m,\u001b[0m\u001b[0;34m(\u001b[0m\u001b[0;36m1\u001b[0m\u001b[0;34m,\u001b[0m\u001b[0;36m2\u001b[0m\u001b[0;34m,\u001b[0m\u001b[0;36m0\u001b[0m\u001b[0;34m)\u001b[0m\u001b[0;34m)\u001b[0m\u001b[0;34m)\u001b[0m\u001b[0;34m\u001b[0m\u001b[0;34m\u001b[0m\u001b[0m\n\u001b[1;32m      5\u001b[0m \u001b[0;34m\u001b[0m\u001b[0m\n\u001b[0;32m----> 6\u001b[0;31m \u001b[0mdataiter\u001b[0m \u001b[0;34m=\u001b[0m \u001b[0miter\u001b[0m\u001b[0;34m(\u001b[0m\u001b[0mtest_loader\u001b[0m\u001b[0;34m)\u001b[0m\u001b[0;34m\u001b[0m\u001b[0;34m\u001b[0m\u001b[0m\n\u001b[0m\u001b[1;32m      7\u001b[0m \u001b[0mimages\u001b[0m\u001b[0;34m,\u001b[0m \u001b[0mlabels\u001b[0m \u001b[0;34m=\u001b[0m \u001b[0mdataiter\u001b[0m\u001b[0;34m.\u001b[0m\u001b[0mnext\u001b[0m\u001b[0;34m(\u001b[0m\u001b[0;34m)\u001b[0m\u001b[0;34m\u001b[0m\u001b[0;34m\u001b[0m\u001b[0m\n\u001b[1;32m      8\u001b[0m \u001b[0;34m\u001b[0m\u001b[0m\n",
            "\u001b[0;31mNameError\u001b[0m: name 'test_loader' is not defined"
          ]
        }
      ]
    }
  ]
}